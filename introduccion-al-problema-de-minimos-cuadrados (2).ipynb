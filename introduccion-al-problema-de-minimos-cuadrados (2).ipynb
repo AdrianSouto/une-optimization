{
 "cells": [
  {
   "cell_type": "markdown",
   "id": "553c2aef",
   "metadata": {},
   "source": [
    "En este notebook vamos a mostrar una forma de resolver el problema de mínimos cuadrados como un caso particular de problema de optimización no lineal."
   ]
  },
  {
   "cell_type": "markdown",
   "id": "71ae9d19",
   "metadata": {},
   "source": [
    "Lo primero es cargar las bibliotecas que nos interesan\n"
   ]
  },
  {
   "cell_type": "code",
   "id": "53ce2acf",
   "metadata": {
    "ExecuteTime": {
     "end_time": "2025-02-16T23:32:12.817012Z",
     "start_time": "2025-02-16T23:32:12.713732Z"
    }
   },
   "source": [
    "import numpy as np\n",
    "import scipy as sp\n",
    "import scipy.optimize as spo\n",
    "import matplotlib.pyplot as plt\n"
   ],
   "outputs": [
    {
     "ename": "ModuleNotFoundError",
     "evalue": "No module named 'numpy'",
     "output_type": "error",
     "traceback": [
      "\u001B[1;31m---------------------------------------------------------------------------\u001B[0m",
      "\u001B[1;31mModuleNotFoundError\u001B[0m                       Traceback (most recent call last)",
      "Cell \u001B[1;32mIn[11], line 1\u001B[0m\n\u001B[1;32m----> 1\u001B[0m \u001B[38;5;28;01mimport\u001B[39;00m\u001B[38;5;250m \u001B[39m\u001B[38;5;21;01mnumpy\u001B[39;00m\u001B[38;5;250m \u001B[39m\u001B[38;5;28;01mas\u001B[39;00m\u001B[38;5;250m \u001B[39m\u001B[38;5;21;01mnp\u001B[39;00m\n\u001B[0;32m      2\u001B[0m \u001B[38;5;28;01mimport\u001B[39;00m\u001B[38;5;250m \u001B[39m\u001B[38;5;21;01mscipy\u001B[39;00m\u001B[38;5;250m \u001B[39m\u001B[38;5;28;01mas\u001B[39;00m\u001B[38;5;250m \u001B[39m\u001B[38;5;21;01msp\u001B[39;00m\n\u001B[0;32m      3\u001B[0m \u001B[38;5;28;01mimport\u001B[39;00m\u001B[38;5;250m \u001B[39m\u001B[38;5;21;01mscipy\u001B[39;00m\u001B[38;5;21;01m.\u001B[39;00m\u001B[38;5;21;01moptimize\u001B[39;00m\u001B[38;5;250m \u001B[39m\u001B[38;5;28;01mas\u001B[39;00m\u001B[38;5;250m \u001B[39m\u001B[38;5;21;01mspo\u001B[39;00m\n",
      "\u001B[1;31mModuleNotFoundError\u001B[0m: No module named 'numpy'"
     ]
    }
   ],
   "execution_count": 11
  },
  {
   "cell_type": "markdown",
   "id": "ec40540e",
   "metadata": {},
   "source": [
    "Lo segundo es crear los datos $(x_i, y_i)$, que en este caso vamos a usar un caso muy sencillito, que sean datos que se obtienen al evaluar la función $y=x + 1$.\n"
   ]
  },
  {
   "cell_type": "code",
   "id": "0db9ea40",
   "metadata": {
    "ExecuteTime": {
     "end_time": "2025-02-16T23:32:12.823034700Z",
     "start_time": "2025-02-16T22:49:24.537944Z"
    }
   },
   "source": [
    "xdata = [1,2,3]\n",
    "ydata = [2,3,4]\n"
   ],
   "outputs": [],
   "execution_count": 10
  },
  {
   "cell_type": "markdown",
   "id": "575e1b4b",
   "metadata": {},
   "source": [
    "Y ahora graficamos esos datos:"
   ]
  },
  {
   "cell_type": "code",
   "execution_count": 3,
   "id": "8e965f74",
   "metadata": {},
   "outputs": [
    {
     "data": {
      "image/png": "[encoded data removed]",
      "text/plain": [
       "<Figure size 432x288 with 1 Axes>"
      ]
     },
     "metadata": {
      "needs_background": "light"
     },
     "output_type": "display_data"
    }
   ],
   "source": [
    "plt.plot(xdata, ydata, 'ro')\n",
    "plt.show()"
   ]
  },
  {
   "cell_type": "markdown",
   "id": "0ebdacbb",
   "metadata": {},
   "source": [
    "Perfecto.  Ahora definimos una función parámetrica, que depende de la x y de un conjunto de parámetros.  En este caso vamos a definir una recta:\n",
    "\n",
    "$f(x,p) = p_1 x + p_2$\n",
    "\n",
    "En Python, eso lo podemos hacer con una función que depende de dos variables:\n"
   ]
  },
  {
   "cell_type": "code",
   "execution_count": 4,
   "id": "68963615",
   "metadata": {},
   "outputs": [],
   "source": [
    "def fp(x,p):\n",
    "    return 2000"
   ]
  },
  {
   "cell_type": "markdown",
   "id": "78647a18",
   "metadata": {},
   "source": [
    "También vamos a definir una función en python que reciba un vector de parámetros $p$ y grafique la función en el intervalo $[min(xdata), max(xdata)]$, para ese vector de parámetros $p$.  También vamos a pedirle que grafique lo datos.\n"
   ]
  },
  {
   "cell_type": "code",
   "execution_count": 5,
   "id": "e62bc8ee",
   "metadata": {},
   "outputs": [],
   "source": [
    "def plot_fp(p):\n",
    "    \"Plots the function fp with parameter p in the interval (a,b)\"\n",
    "    # here we get the min and max of the data\n",
    "    a = np.min(xdata)\n",
    "    b = np.max(xdata)\n",
    "    # generate a set of x points in the interval min(xdata), max(ydata)\n",
    "    xplot = np.linspace(a,b,100)\n",
    "    # evaluate the generated points in the function with the parameter p\n",
    "    yplot = fp(xplot,p)\n",
    "    # plot the data\n",
    "    plt.plot(xdata,ydata,'ro')\n",
    "    # plot the function\n",
    "    plt.plot(xplot,yplot,'b')"
   ]
  },
  {
   "cell_type": "markdown",
   "id": "0f6c0eaf",
   "metadata": {},
   "source": [
    "De los puntos xdata y ydata tenemos que evidentemente la recta que más se parece a esos puntos es la recta $y = x + 1$.  \n",
    "\n",
    "Si consideramos la recta $y = x + 1$, como una instancia de la función $f(x,p)$, $p$ tendría el valor $[1,1]$.\n",
    "\n",
    "Por si acaso, vamos a comprobar que en efecto, cuando graficamos la función $f(x,p)$ con $p = [1,1]$, se obtiene una recta que pasa por los puntos dados.\n"
   ]
  },
  {
   "cell_type": "code",
   "execution_count": 6,
   "id": "dca5ffae",
   "metadata": {
    "scrolled": true
   },
   "outputs": [
    {
     "data": {
      "image/png": "[encoded data removed]",
      "text/plain": [
       "<Figure size 432x288 with 1 Axes>"
      ]
     },
     "metadata": {
      "needs_background": "light"
     },
     "output_type": "display_data"
    }
   ],
   "source": "plot_fp([1,1])\n"
  },
  {
   "cell_type": "markdown",
   "id": "8d1c37a0",
   "metadata": {},
   "source": [
    "En efecto, ahí tenemos la función que pasa por los puntos que queríamos.\n",
    "\n",
    "Ahora, lo interesante sería poder determinar el valor del vector $p$ de manera automática, sin tener que mirar los datos y tratar de adivinar nosotros a mano.  Sería muy lindo si lográramos calcular ese valor de $p$ de manera automática.  Y eso se puede hacer resolviendo un problema de mínimos cudrados :-).\n"
   ]
  },
  {
   "cell_type": "markdown",
   "id": "7c3a3854",
   "metadata": {},
   "source": [
    "El problema de mínimos cuadrados es el siguiente: dado un conjunto de datos de la forma $D= \\{(x_i, y_i), x_i \\in \\mathbb{R}, y_i \\in \\mathbb{R}, i=\\overline{1,n}\\}$, y una función parámetrica $f(x,p)$, se desea encontrar los valores del parámetro $p$ que haga que el error cuadrático sea lo más pequeño posible.  \n",
    "\n",
    "El error cuadrático para un valor del parámetro $p$ se define como:\n",
    "\n",
    "$\\displaystyle E(p) = \\sum_{i=1}^n \\left(f(x_i,p) - y_i\\right)^2$\n",
    "\n",
    "De forma que si el error cuadrático es 0, con ese valor de $p$ la función $f(x,p)$ pasa por todos los puntos $(x_i,y_i)$, y mientras más pequeño sea el valor de $E(p)$, mejor es la aproximación de la función.\n",
    "\n",
    "Vamos a definir la función error cuadrático para los datos (xdata,ydata) y la función fp(x,p).\n"
   ]
  },
  {
   "cell_type": "code",
   "execution_count": 7,
   "id": "ea76f6d3",
   "metadata": {},
   "outputs": [],
   "source": [
    "def error_cuadratico(p):\n",
    "    error = 0\n",
    "    for i in range(len(xdata)):\n",
    "        error = error + (fp(xdata[i],p) - ydata[i])**2\n",
    "    return error"
   ]
  },
  {
   "cell_type": "markdown",
   "id": "f7f0c121",
   "metadata": {},
   "source": [
    "Y solo para comprobar, vamos a evaluar la función en $p=[1,1]$, el resultado debería ser 0."
   ]
  },
  {
   "cell_type": "code",
   "execution_count": 8,
   "id": "d8651a18",
   "metadata": {},
   "outputs": [
    {
     "name": "stdout",
     "output_type": "stream",
     "text": [
      "0\n"
     ]
    }
   ],
   "source": [
    "print(error_cuadratico([1,1]))"
   ]
  },
  {
   "cell_type": "markdown",
   "id": "27337ba9",
   "metadata": {},
   "source": [
    "Perfecto, vamos a probar con otro valor de $p$:"
   ]
  },
  {
   "cell_type": "code",
   "execution_count": 9,
   "id": "07d0ae30",
   "metadata": {},
   "outputs": [
    {
     "name": "stdout",
     "output_type": "stream",
     "text": [
      "3\n"
     ]
    }
   ],
   "source": [
    "print(error_cuadratico([1,2]))"
   ]
  },
  {
   "cell_type": "markdown",
   "id": "49b1798f",
   "metadata": {},
   "source": [
    "Tiene sentido.  Con el valor $p=[1,1]$ se obtiene el menor error posible (que es 0).  Con cualquier otro valor de $p$ se obtiene valores más grandes.\n",
    "\n",
    "Entonces, llegado este punto, lo que tendríamos que hacer es resolver el problema de optimiziación de los mínimos cuadrados.  \n",
    "\n",
    "Afortunadamente, hay una función en Python que nos permite hacer justamente eso.\n"
   ]
  },
  {
   "cell_type": "markdown",
   "id": "52df9f0f",
   "metadata": {},
   "source": [
    "Lo que queremos hacer con la función $f(x,p)$ es minimizarla.  Afortunadamente hay una función en scipy que se llama minimize, que recibe una función y ¡adivinen qué hace! :-o.\n",
    "\n",
    "*PAUSA DRAMÁTICA PARA QUE LA PERSONA QUE ESTÁ LEYENDO DIGA EN SU MENTE QUE EL COMANDO minimize MINIMIZA LA FUNCIÓN QUE SE LE PASE COMO ARGUMENTO.*\n",
    "\n",
    "Exacto, la función minimize devuelve el mínimo de una función :-).\n",
    "\n",
    "Vamos a usarlo.  Para usar la función hay que precisar un par de detallitos.  \n",
    "\n",
    "El primero es que la función está en el módulo optimize de scipy.\n",
    "El segundo es que en realidad la función recibe dos argumentos, la función a la que se le está buscando el mínimo, y un punto inicial.  El punto inicial ahora no es importante, así que puede ser cualquiera.  Por eso, vamos a poner de primero el [0,0].\n"
   ]
  },
  {
   "cell_type": "code",
   "execution_count": 10,
   "id": "6849fb7c",
   "metadata": {
    "scrolled": true
   },
   "outputs": [
    {
     "name": "stdout",
     "output_type": "stream",
     "text": [
      "      fun: 9.394545235545695e-13\n",
      " hess_inv: array([[ 0.24991994, -0.50026157],\n",
      "       [-0.50026157,  1.16581203]])\n",
      "      jac: array([7.18980393e-06, 3.38094479e-06])\n",
      "  message: 'Optimization terminated successfully.'\n",
      "     nfev: 18\n",
      "      nit: 5\n",
      "     njev: 6\n",
      "   status: 0\n",
      "  success: True\n",
      "        x: array([1.00000008, 1.0000004 ])\n"
     ]
    }
   ],
   "source": [
    "results = spo.minimize(error_cuadratico, [0,0])\n",
    "print(results)"
   ]
  },
  {
   "cell_type": "markdown",
   "id": "7ab9b683",
   "metadata": {},
   "source": [
    "Perfecto.  Eso nos dio cantidad de información, pero de toda esa información lo más relevante ahora para nosotros son tres elmentos: fun, x y success.\n",
    "\n",
    "\n",
    "- fun: indica cuánto vale la función objetivo en el punto que devolvió el algoritmo.  En este caso es 9.39e-13.  Ese e-13 significa que el número está multiplicado por $10^{-13}$ :-o.  O sea, podemos asumir que es 0.\n",
    "\n",
    "- x: es el punto que encontró el algoritmo.  En este caso es $[1.00000008, 1.0000004]$, que es casi el $[1,1]$.\n",
    "\n",
    "- success: es un valor booleano que es True si el algoritmo cree que encontró un mínimo.  \n",
    "\n",
    "Aquí se pueden dar varios casos: que el algoritmo crea que terminó, pero en realidad no haya encontrado un mínimo.  Que sí lo haya encontrado y crea que no, y cualquier otra combinación.  Por eso es importante analizar los tres elementos: success, el valor de la función (fun) y el punto x.  \n",
    "\n",
    "En este caso no tenemos problemas porque él cree que lo encontró y en efecto, lo encontró.\n",
    "\n",
    "La forma de comprobar cuán buena es la solución sería graficar la función $f(x,p)$ con el valor de $p$ que devolvió el algoritmo.\n",
    "\n",
    "Hagámoslo :-)\n"
   ]
  },
  {
   "cell_type": "code",
   "execution_count": 11,
   "id": "92bb2dee",
   "metadata": {},
   "outputs": [
    {
     "data": {
      "image/png": "[encoded data removed]",
      "text/plain": [
       "<Figure size 432x288 with 1 Axes>"
      ]
     },
     "metadata": {
      "needs_background": "light"
     },
     "output_type": "display_data"
    }
   ],
   "source": [
    "plot_fp(results.x)\n"
   ]
  },
  {
   "cell_type": "markdown",
   "id": "3d59463d",
   "metadata": {},
   "source": [
    "Bueno, como esperábamos, todo salió bien :-).  Veamos un ejemplo más interesante ;-)."
   ]
  },
  {
   "cell_type": "markdown",
   "id": "8d56a224",
   "metadata": {},
   "source": [
    "Lo ideal sería empezar esta sección con la imagen, antes de tener los datos, pero como esto es un /notebook/, me temo que eso no va a poder ser :-(, así que empecemos generando los datos de la parábola.\n"
   ]
  },
  {
   "cell_type": "code",
   "id": "d9102fc1",
   "metadata": {
    "ExecuteTime": {
     "end_time": "2025-02-16T23:32:12.835930400Z",
     "start_time": "2025-02-16T22:46:38.704863Z"
    }
   },
   "source": [
    "xdata = range(0, 14)\n",
    "ydata = np.full(15, 2000)\n",
    "\n"
   ],
   "outputs": [
    {
     "ename": "NameError",
     "evalue": "name 'np' is not defined",
     "output_type": "error",
     "traceback": [
      "\u001B[1;31m---------------------------------------------------------------------------\u001B[0m",
      "\u001B[1;31mNameError\u001B[0m                                 Traceback (most recent call last)",
      "Cell \u001B[1;32mIn[1], line 2\u001B[0m\n\u001B[0;32m      1\u001B[0m xdata \u001B[38;5;241m=\u001B[39m \u001B[38;5;28mrange\u001B[39m(\u001B[38;5;241m0\u001B[39m, \u001B[38;5;241m14\u001B[39m)\n\u001B[1;32m----> 2\u001B[0m ydata \u001B[38;5;241m=\u001B[39m \u001B[43mnp\u001B[49m\u001B[38;5;241m.\u001B[39mfull(\u001B[38;5;241m15\u001B[39m, \u001B[38;5;241m2000\u001B[39m)\n",
      "\u001B[1;31mNameError\u001B[0m: name 'np' is not defined"
     ]
    }
   ],
   "execution_count": 1
  },
  {
   "cell_type": "markdown",
   "id": "e4d21568",
   "metadata": {},
   "source": [
    "Ahí generamos 20 puntos entre 0 y 5 y los datos de los $y_i$ ahora se corresponden con los de la parábola:\n",
    "\n",
    "$y= 2x^2 + 3 x - 5$.\n",
    "\n",
    "Solo para comprobarlo, vamos a graficar esos puntos:\n"
   ]
  },
  {
   "cell_type": "code",
   "execution_count": 13,
   "id": "c9364864",
   "metadata": {},
   "outputs": [
    {
     "data": {
      "text/plain": [
       "[<matplotlib.lines.Line2D at 0x7f82573dcf40>]"
      ]
     },
     "execution_count": 13,
     "metadata": {},
     "output_type": "execute_result"
    },
    {
     "data": {
      "image/png": "[encoded data removed]",
      "text/plain": [
       "<Figure size 432x288 with 1 Axes>"
      ]
     },
     "metadata": {
      "needs_background": "light"
     },
     "output_type": "display_data"
    }
   ],
   "source": [
    "plt.plot(xdata, ydata, 'ro')\n"
   ]
  },
  {
   "cell_type": "markdown",
   "id": "87367bb8",
   "metadata": {},
   "source": [
    "Perfecto.  Ahora lo que tocaría es definir la nueva función paramétrica, que sería una parábola de la forma $f(x,p) = p_2 x^2 + p_1 x + p_0$.\n",
    "\n",
    "Vamos a programar esa nueva función $f(x,p)$:\n"
   ]
  },
  {
   "cell_type": "code",
   "execution_count": 14,
   "id": "f2f78959",
   "metadata": {},
   "outputs": [],
   "source": [
    "def fp(x,p):\n",
    "    return p[2]*x**2 + p[1]*x + p[0]"
   ]
  },
  {
   "cell_type": "markdown",
   "id": "25289604",
   "metadata": {},
   "source": [
    "Solo para comprobar, vamos a evaluar la función en el punto 1, con el vector $p=[1,0,1]$\n"
   ]
  },
  {
   "cell_type": "code",
   "execution_count": 15,
   "id": "c147cc92",
   "metadata": {
    "scrolled": true
   },
   "outputs": [
    {
     "name": "stdout",
     "output_type": "stream",
     "text": [
      "2\n"
     ]
    }
   ],
   "source": [
    "print(fp(1,[1,0,1]))"
   ]
  },
  {
   "cell_type": "markdown",
   "id": "056689da",
   "metadata": {},
   "source": [
    "Bueno...  parece que fuciona.  Solo para comprobar, vamos a ver qué tal aproxima a esos datos ese vector.  Para eso usamos la función plot_fp.\n"
   ]
  },
  {
   "cell_type": "code",
   "execution_count": 16,
   "id": "92165414",
   "metadata": {
    "scrolled": true
   },
   "outputs": [
    {
     "data": {
      "image/png": "[encoded data removed]",
      "text/plain": [
       "<Figure size 432x288 with 1 Axes>"
      ]
     },
     "metadata": {
      "needs_background": "light"
     },
     "output_type": "display_data"
    }
   ],
   "source": [
    "plot_fp([1,0,1])"
   ]
  },
  {
   "cell_type": "markdown",
   "id": "c1a555d0",
   "metadata": {},
   "source": [
    "Bueno, del gráfico, queda claro que ese vector $p$ no es el que mejor ajusta los datos.\n",
    "\n",
    "Solo para comprobar, vamos a calcular el error cuadrático:\n"
   ]
  },
  {
   "cell_type": "code",
   "execution_count": 17,
   "id": "08393d24",
   "metadata": {
    "scrolled": true
   },
   "outputs": [
    {
     "name": "stdout",
     "output_type": "stream",
     "text": [
      "5052.672401224667\n"
     ]
    }
   ],
   "source": [
    "print(error_cuadratico([1,0,1]))"
   ]
  },
  {
   "cell_type": "markdown",
   "id": "b06d93f9",
   "metadata": {},
   "source": [
    "Uffff...  un error cuadrático de más de 5000...  eso está en candela...  La buena noticia es que eso se resuelve fácil, con la función minimize.\n",
    "\n",
    "El detalle es que ahora el punto inicial que le pasemos a la función minimize debe tener tres componentes.  Ese es el único detalle que debemos revisar siempre.  Una vez más, vamos a empezar con el vector nulo.\n"
   ]
  },
  {
   "cell_type": "code",
   "execution_count": 18,
   "id": "73b62289",
   "metadata": {
    "scrolled": false
   },
   "outputs": [
    {
     "name": "stdout",
     "output_type": "stream",
     "text": [
      "      fun: 1.2040886682799096e-12\n",
      " hess_inv: array([[ 0.18540907, -0.14436409,  0.02344464],\n",
      "       [-0.14436409,  0.15932963, -0.02969477],\n",
      "       [ 0.02344464, -0.02969477,  0.00593902]])\n",
      "      jac: array([-2.21351891e-06, -1.25485441e-05, -4.07507417e-05])\n",
      "  message: 'Desired error not necessarily achieved due to precision loss.'\n",
      "     nfev: 212\n",
      "      nit: 12\n",
      "     njev: 50\n",
      "   status: 2\n",
      "  success: False\n",
      "        x: array([-5.00000018,  3.00000036,  1.99999991])\n"
     ]
    }
   ],
   "source": [
    "results2 = spo.minimize(error_cuadratico, [0,0,0])\n",
    "print(results2)"
   ]
  },
  {
   "cell_type": "markdown",
   "id": "2c2021d8",
   "metadata": {},
   "source": [
    "Ajá...  Vamos a analizar los resultados de la optimización :-).\n",
    "\n",
    "Por un lado, encontró el vector \n",
    "\n",
    "[-5.00000018,  3.00000036,  1.99999991]\n",
    "\n",
    "que se parece mucho al verdadero vector: [-5, 3, 2].  Por otro lado, el valor de la función en el punto que encontró es $10^{-12}$ :-o...  y aún así dice que cree que no lo encontró :shrug:.\n",
    "\n",
    "De todas formas, con un error cuadrático de $10^{-12}$, podemos considerar que resolvimos el problema :-D.\n"
   ]
  },
  {
   "cell_type": "code",
   "execution_count": 19,
   "id": "85bc15eb",
   "metadata": {
    "scrolled": false
   },
   "outputs": [
    {
     "data": {
      "image/png": "[encoded data removed]",
      "text/plain": [
       "<Figure size 432x288 with 1 Axes>"
      ]
     },
     "metadata": {
      "needs_background": "light"
     },
     "output_type": "display_data"
    }
   ],
   "source": [
    "plot_fp(results2.x)"
   ]
  },
  {
   "cell_type": "markdown",
   "id": "8a1f9036",
   "metadata": {},
   "source": [
    "Bueno, como era de esperar, funciona perfectamente.\n",
    "\n",
    "\n",
    "Y llegado este punto ya podemos decir que sabemos resolver el problema de mínimos cuadrados.  Lo único que necesitamos es:\n",
    "1. tener los datos\n",
    "2. graficar los datos para ver la forma de la función\n",
    "3. definir la función paramétrica\n",
    "4. resolver el problema de optimización.\n",
    "\n",
    "A modo de ejemplo, supongamos que los datos son los que se muestran en la imagen (y supongamos también que miras la imagen sin leer el código :-|)\n"
   ]
  },
  {
   "cell_type": "code",
   "execution_count": 20,
   "id": "dcf3ab6e",
   "metadata": {
    "scrolled": true
   },
   "outputs": [
    {
     "data": {
      "text/plain": [
       "[<matplotlib.lines.Line2D at 0x7f82572a17f0>]"
      ]
     },
     "execution_count": 20,
     "metadata": {},
     "output_type": "execute_result"
    },
    {
     "data": {
      "image/png": "[encoded data removed]",
      "text/plain": [
       "<Figure size 432x288 with 1 Axes>"
      ]
     },
     "metadata": {
      "needs_background": "light"
     },
     "output_type": "display_data"
    }
   ],
   "source": [
    "xdata = np.linspace(0,6.28,50)\n",
    "ydata = 3 + 2*np.sin(xdata)\n",
    "\n",
    "plt.plot(xdata,ydata, 'ro')\n"
   ]
  },
  {
   "cell_type": "markdown",
   "id": "be658e8c",
   "metadata": {},
   "source": [
    "En este caso podemos apreciar varias cosas.  La primera es que es una función seno, peeeeero que está corrida en el eje Y.  En vez de empezar en 0 empieza en 3.  Lo otro es que en vez de tener amplitud 1, tiene amplitud 2 (porque va desde 3 hasta 5 y desde 3 hasta 1).\n",
    "\n",
    "El tercer punto sería definir la función paramétrica, que pudiera ser \n",
    "\n",
    "$f(x,p) = p_1 \\sin(x) + p_2$.\n",
    "\n",
    "Vamos a programarla y minmizar el error cuadrático medio:\n"
   ]
  },
  {
   "cell_type": "code",
   "execution_count": 21,
   "id": "4798a80e",
   "metadata": {},
   "outputs": [],
   "source": [
    "def fp(x,p):\n",
    "    return p[0] * np.sin(x) + p[1]"
   ]
  },
  {
   "cell_type": "markdown",
   "id": "b97a22f2",
   "metadata": {},
   "source": [
    "Minimicemos el error cuadrático y grafiquemos.\n",
    "\n",
    "Empezamos con un vector de dos elementos (porque solo hay dos parámetros)\n"
   ]
  },
  {
   "cell_type": "code",
   "execution_count": 22,
   "id": "2ae1a8eb",
   "metadata": {},
   "outputs": [
    {
     "name": "stdout",
     "output_type": "stream",
     "text": [
      "fun: 1.5725373927165307e-12\n",
      "success: True\n",
      "x: [1.99999979 2.9999999 ]\n"
     ]
    }
   ],
   "source": [
    "results3 = spo.minimize(error_cuadratico, [0,0])\n",
    "print(\"fun: \" + str(results3.fun))\n",
    "print(\"success: \" + str(results3.success))\n",
    "print(\"x: \" + str(results3.x))\n"
   ]
  },
  {
   "cell_type": "markdown",
   "id": "2120ff88",
   "metadata": {},
   "source": [
    "Perfecto :-).  Incluso el algoritmo dice que encontró el óptimo :-).  Vamos a comprobarlo gŕaficamente.\n"
   ]
  },
  {
   "cell_type": "code",
   "execution_count": 23,
   "id": "b8df0a0b",
   "metadata": {},
   "outputs": [
    {
     "data": {
      "image/png": "[encoded data removed]",
      "text/plain": [
       "<Figure size 432x288 with 1 Axes>"
      ]
     },
     "metadata": {
      "needs_background": "light"
     },
     "output_type": "display_data"
    }
   ],
   "source": [
    "plot_fp(results3.x)"
   ]
  },
  {
   "cell_type": "markdown",
   "id": "34526f96",
   "metadata": {},
   "source": [
    "Y listo :-).\n",
    "\n",
    "Después de esto, al menos en teoría, ya deberías ser capaz de resolver cualquier problema de mínimos cuadrados usando minimize :-D.\n"
   ]
  },
  {
   "cell_type": "code",
   "execution_count": null,
   "id": "11838215",
   "metadata": {},
   "outputs": [],
   "source": []
  }
 ],
 "metadata": {
  "kernelspec": {
   "display_name": "Python 3 (ipykernel)",
   "language": "python",
   "name": "python3"
  },
  "language_info": {
   "codemirror_mode": {
    "name": "ipython",
    "version": 3
   },
   "file_extension": ".py",
   "mimetype": "text/x-python",
   "name": "python",
   "nbconvert_exporter": "python",
   "pygments_lexer": "ipython3",
   "version": "3.8.10"
  }
 },
 "nbformat": 4,
 "nbformat_minor": 5
}
